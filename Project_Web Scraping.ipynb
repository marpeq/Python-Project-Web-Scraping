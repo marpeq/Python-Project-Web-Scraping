{
 "cells": [
  {
   "cell_type": "code",
   "execution_count": 28,
   "id": "851bee11-fd3d-4cd9-b405-5e78e8caa740",
   "metadata": {},
   "outputs": [],
   "source": [
    "# Imports necessary libraries\n",
    "import requests\n",
    "from bs4 import BeautifulSoup\n",
    "import pandas as pd\n",
    "import os\n",
    "\n",
    "# URL to scrape data from\n",
    "url = 'https://en.wikipedia.org/wiki/List_of_largest_companies_in_the_United_States_by_revenue'\n",
    "\n",
    "# Sends a GET request to fetch the page content\n",
    "page = requests.get(url)\n",
    "\n",
    "# Processes the page content using BeautifulSoup\n",
    "contents = BeautifulSoup(page.text, 'html')\n",
    "\n",
    "# Finds the table containing the companies information \n",
    "companies_table = contents.find('table')\n",
    "\n",
    "# Creates a list that holds the table headers\n",
    "table_headers = []\n",
    "for header in companies_table.find_all('th'):\n",
    "    table_headers.append(header.text.strip())\n",
    "\n",
    "# Creates a pandas DataFrame with the table headers as columns\n",
    "df = pd.DataFrame(columns = table_headers)\n",
    "\n",
    "# Stores each table row data as an element in the list column_data\n",
    "column_data = companies_table.find_all('tr')\n",
    "\n",
    "# Extracts data from each row (excluding headers) and adds it to the DataFrame\n",
    "individual_row_data=[]\n",
    "\n",
    "for row in column_data[1:]:\n",
    "    row_data = []\n",
    "    for data in row.find_all('td'):\n",
    "        row_data.append(data.text.strip())\n",
    "    \n",
    "    position = len(df)\n",
    "    df.loc[position] =  row_data\n",
    "\n",
    "\n",
    "# Gets the user's home directory\n",
    "home_directory = os.path.expanduser(\"~\")\n",
    "\n",
    "# Defines the path for saving the CSV\n",
    "csv_file_path = os.path.join(home_directory, 'Documents', 'Largest_Companies_USA.csv')\n",
    "\n",
    "# Saves the DataFrame as a CSV file without the index column\n",
    "df.to_csv(csv_file_path, index=False)"
   ]
  }
 ],
 "metadata": {
  "kernelspec": {
   "display_name": "Python 3 (ipykernel)",
   "language": "python",
   "name": "python3"
  },
  "language_info": {
   "codemirror_mode": {
    "name": "ipython",
    "version": 3
   },
   "file_extension": ".py",
   "mimetype": "text/x-python",
   "name": "python",
   "nbconvert_exporter": "python",
   "pygments_lexer": "ipython3",
   "version": "3.12.4"
  }
 },
 "nbformat": 4,
 "nbformat_minor": 5
}
